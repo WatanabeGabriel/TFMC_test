{
  "nbformat": 4,
  "nbformat_minor": 0,
  "metadata": {
    "colab": {
      "provenance": [],
      "collapsed_sections": [],
      "include_colab_link": true
    },
    "kernelspec": {
      "display_name": "Python 3",
      "language": "python",
      "name": "python3"
    },
    "language_info": {
      "codemirror_mode": {
        "name": "ipython",
        "version": 3
      },
      "file_extension": ".py",
      "mimetype": "text/x-python",
      "name": "python",
      "nbconvert_exporter": "python",
      "pygments_lexer": "ipython3",
      "version": "3.8.3"
    },
    "toc": {
      "base_numbering": 1,
      "nav_menu": {},
      "number_sections": true,
      "sideBar": true,
      "skip_h1_title": false,
      "title_cell": "Table of Contents",
      "title_sidebar": "Contents",
      "toc_cell": false,
      "toc_position": {
        "height": "calc(100% - 180px)",
        "left": "10px",
        "top": "150px",
        "width": "252px"
      },
      "toc_section_display": true,
      "toc_window_display": true
    }
  },
  "cells": [
    {
      "cell_type": "markdown",
      "metadata": {
        "id": "view-in-github",
        "colab_type": "text"
      },
      "source": [
        "<a href=\"https://colab.research.google.com/github/WatanabeGabriel/TFMC_test/blob/main/Exercicios_Numpy_II.ipynb\" target=\"_parent\"><img src=\"https://colab.research.google.com/assets/colab-badge.svg\" alt=\"Open In Colab\"/></a>"
      ]
    },
    {
      "cell_type": "code",
      "source": [
        "import numpy as np"
      ],
      "metadata": {
        "id": "FGXf7SwJEjBN"
      },
      "execution_count": 1,
      "outputs": []
    },
    {
      "cell_type": "markdown",
      "metadata": {
        "id": "FGepcSjhciDI"
      },
      "source": [
        "# Exercícios\n",
        "\n",
        "1. Uma maneira de calcular o erro de um modelo preditivo é através do erro médio quadrático, que consiste em elevar ao quadrado a diferença de cada valor predito pelo valor real e depois tirar a média. Supondo que seu modelo fez 5 previsões y_pred = [1, 1, 1.1, 3.2, -0.5] e que os valores reais seriam: y_real = [0.3, 0.4, 1.1, 2.1, -0.9]. Calcule o erro médio quadrático.\n",
        "\n",
        "$\n",
        "e = \\frac{1}{N}\\sum(y_{real_i} - y_{pred_i} )^2\n",
        "$\n",
        "\n",
        "\n",
        "---\n",
        "\n",
        "\n"
      ]
    },
    {
      "cell_type": "code",
      "source": [
        "y_real = np.array([0.3, 0.4, 1.1, 2.1, -0.9])\n",
        "y_pred = np.array([1, 1, 1.1, 3.2, -0.5])"
      ],
      "metadata": {
        "id": "_hdvx1veEecB"
      },
      "execution_count": null,
      "outputs": []
    },
    {
      "cell_type": "code",
      "source": [
        "e = 0\n",
        "for i in (y_real - y_pred)**2:\n",
        "  e += i\n",
        "e = e / len(y_real)\n",
        "print (e)"
      ],
      "metadata": {
        "colab": {
          "base_uri": "https://localhost:8080/"
        },
        "id": "FOOD7sjvFARg",
        "outputId": "3eddba63-851b-4a2f-a7b8-9cbc3305b3db"
      },
      "execution_count": null,
      "outputs": [
        {
          "output_type": "stream",
          "name": "stdout",
          "text": [
            "0.44400000000000006\n"
          ]
        }
      ]
    },
    {
      "cell_type": "code",
      "source": [
        "print(((y_real - y_pred)**2).mean())"
      ],
      "metadata": {
        "colab": {
          "base_uri": "https://localhost:8080/"
        },
        "id": "PnPmc9hMFWZ6",
        "outputId": "4c215af5-65fd-4293-f707-4685d236789e"
      },
      "execution_count": null,
      "outputs": [
        {
          "output_type": "stream",
          "name": "stdout",
          "text": [
            "0.44400000000000006\n"
          ]
        }
      ]
    },
    {
      "cell_type": "markdown",
      "source": [
        "\n",
        "2. Um modelo calcula as probabilidades de três eventos acontecerem para uma determinada entrada. Suponha que esse modelo calculou as probabilidades abaixo para 5 entrada. Como você selecionaria qual a coluna que teve maior probabilidade em cada linha ?\n",
        "\n",
        "```\n",
        "[[0.2, 0.1, 0.7],\n",
        "[0.3, 0.1, 0.6],\n",
        "[0.5, 0.4, 0.1],\n",
        "[0.3, 0.5, 0.2],\n",
        "[0.1, 0.9, 0.0]]\n",
        "```\n",
        "\n",
        "---"
      ],
      "metadata": {
        "id": "mZTPiiLNEXRU"
      }
    },
    {
      "cell_type": "code",
      "source": [
        "modelo = np.array([[0.2, 0.1, 0.7],[0.3, 0.1, 0.6],[0.5, 0.4, 0.1],[0.3, 0.5, 0.2],[0.1, 0.9, 0.0]])"
      ],
      "metadata": {
        "id": "-Jq739NfGwXY"
      },
      "execution_count": null,
      "outputs": []
    },
    {
      "cell_type": "code",
      "source": [
        "print(np.argmax(modelo, 1))"
      ],
      "metadata": {
        "colab": {
          "base_uri": "https://localhost:8080/"
        },
        "id": "LtzaRt-TGwPI",
        "outputId": "3325d6d1-9900-41a4-8d80-5a2fca2092ae"
      },
      "execution_count": null,
      "outputs": [
        {
          "output_type": "stream",
          "name": "stdout",
          "text": [
            "[2 2 0 1 1]\n"
          ]
        }
      ]
    },
    {
      "cell_type": "markdown",
      "source": [
        "3. Crie uma matriz 5, 100 com números inteiros aleatórios entre 0 e 100. Subtraia a média de cada linha da matriz.\n",
        "\n",
        "---\n",
        "\n"
      ],
      "metadata": {
        "id": "7Yp7q96d-ANh"
      }
    },
    {
      "cell_type": "code",
      "source": [
        "matriz_aleatoria = np.random.randint(0,101,(5,10)) #### trocar de 10 p 100 ###\n",
        "#print (matriz_aleatoria)\n",
        "#len(matriz_aleatoria)"
      ],
      "metadata": {
        "id": "zK-dG8gxIzN3"
      },
      "execution_count": null,
      "outputs": []
    },
    {
      "cell_type": "code",
      "source": [
        "matriz_aleatoria.shape"
      ],
      "metadata": {
        "colab": {
          "base_uri": "https://localhost:8080/"
        },
        "id": "2XcMi6uWYzz6",
        "outputId": "6c1be1fa-62b5-47ab-b9a8-41f97f643c20"
      },
      "execution_count": null,
      "outputs": [
        {
          "output_type": "execute_result",
          "data": {
            "text/plain": [
              "(5, 10)"
            ]
          },
          "metadata": {},
          "execution_count": 143
        }
      ]
    },
    {
      "cell_type": "code",
      "source": [
        "media = np.array(matriz_aleatoria.mean(1).reshape(len(matriz_aleatoria),1))\n",
        "#print(media)"
      ],
      "metadata": {
        "id": "hlM0hIuNIzGO"
      },
      "execution_count": null,
      "outputs": []
    },
    {
      "cell_type": "code",
      "source": [
        "matriz_2 = np.subtract(matriz_aleatoria, media)\n",
        "print(matriz_2)"
      ],
      "metadata": {
        "colab": {
          "base_uri": "https://localhost:8080/"
        },
        "id": "Oq8W2vt4Iy-G",
        "outputId": "7026abee-29a3-42c8-b2b2-77bd856136ed"
      },
      "execution_count": null,
      "outputs": [
        {
          "output_type": "stream",
          "name": "stdout",
          "text": [
            "[[-35.6   1.4  28.4  11.4  40.4  32.4 -37.6  24.4 -27.6 -37.6]\n",
            " [-24.3 -23.3   5.7   7.7   4.7  43.7  48.7 -21.3 -46.3   4.7]\n",
            " [  5.6 -15.4  37.6  12.6 -21.4 -39.4 -10.4 -23.4  39.6  14.6]\n",
            " [-38.1  37.9  39.9 -21.1 -56.1 -42.1  -7.1  32.9  21.9  31.9]\n",
            " [ 56.8 -29.2  -0.2   6.8   3.8   5.8  -4.2 -27.2 -36.2  23.8]]\n"
          ]
        }
      ]
    },
    {
      "cell_type": "markdown",
      "source": [
        "4. Usando a matriz do exercício anterior, divida cada linha de uma  pelo desvio padrão daquela linha.\n",
        "\n",
        "---\n",
        "# Nova seção"
      ],
      "metadata": {
        "id": "Y3_ges2t-Ea7"
      }
    },
    {
      "cell_type": "code",
      "source": [
        "dp_matriz_2 = np.reshape(np.std(matriz_2,1),(len(matriz_2),1))\n",
        "#print(dp_matriz_2)"
      ],
      "metadata": {
        "id": "lb_BEfVcQEYf"
      },
      "execution_count": null,
      "outputs": []
    },
    {
      "cell_type": "code",
      "source": [
        "matriz_div = np.divide(matriz_2, dp_matriz_2)\n",
        "print(matriz_div)"
      ],
      "metadata": {
        "colab": {
          "base_uri": "https://localhost:8080/"
        },
        "id": "KbFpYULmQELO",
        "outputId": "72aeaaa1-c104-4d9b-b07d-80d68cc0030a"
      },
      "execution_count": null,
      "outputs": [
        {
          "output_type": "stream",
          "name": "stdout",
          "text": [
            "[[-1.18192224  0.04648009  0.94288178  0.37848072  1.34128254  1.07568203\n",
            "  -1.24832236  0.81008153 -0.91632173 -1.24832236]\n",
            " [-0.85129111 -0.81625855  0.19968557  0.26975068  0.16465301  1.5309227\n",
            "   1.70608548 -0.74619344 -1.62200734  0.16465301]\n",
            " [ 0.22331503 -0.61411632  1.49940089  0.50245881 -0.85338242 -1.57118072\n",
            "  -0.41472791 -0.93313779  1.57915626  0.58221418]\n",
            " [-1.07871431  1.07305177  1.12967719 -0.59739821 -1.58834311 -1.19196515\n",
            "  -0.20102025  0.93148821  0.62004838  0.9031755 ]\n",
            " [ 2.17696437 -1.11914365 -0.00766537  0.26062249  0.14564198  0.22229566\n",
            "  -0.16097272 -1.04248998 -1.38743152  0.91217873]]\n"
          ]
        }
      ]
    },
    {
      "cell_type": "markdown",
      "source": [
        "\n",
        "5. Compare dois vetores para saber se todos elementos são iguais.\n",
        "\n",
        "---\n",
        "\n"
      ],
      "metadata": {
        "id": "OGttDxeo-IsS"
      }
    },
    {
      "cell_type": "code",
      "source": [
        "sorteio = np.random.choice(len(matriz_div),2, replace=False)\n",
        "#print(sorteio)\n",
        "#print(matriz_div[sorteio[0]])\n",
        "#print(matriz_div[sorteio[1]])\n",
        "igualdade = np.equal(matriz_div[sorteio[0]], matriz_div[sorteio[1]])\n",
        "print (igualdade)"
      ],
      "metadata": {
        "colab": {
          "base_uri": "https://localhost:8080/"
        },
        "id": "Vy0q3qX_Sb_3",
        "outputId": "ad299a03-aed1-41fa-da84-ec4736aa55a8"
      },
      "execution_count": null,
      "outputs": [
        {
          "output_type": "stream",
          "name": "stdout",
          "text": [
            "[False False False False False False False False False False]\n"
          ]
        }
      ]
    },
    {
      "cell_type": "markdown",
      "source": [
        "6. Crie uma matriz aleatória de tamanho 100x5. Divida cada coluna pelo maior valor daquela coluna\n",
        "\n",
        "--- \n"
      ],
      "metadata": {
        "id": "HfO75X1l-I9y"
      }
    },
    {
      "cell_type": "code",
      "source": [
        "matriz_aleatoria_2 = np.random.randint(100,size=(10,5)) #### trocar de 10 p 100 ###\n",
        "#print (matriz_aleatoria_2.shape)"
      ],
      "metadata": {
        "id": "Q4vNArFkWTVH"
      },
      "execution_count": null,
      "outputs": []
    },
    {
      "cell_type": "code",
      "source": [
        "maximos = np.array(matriz_aleatoria_2.max(1).reshape(len(matriz_aleatoria_2),1))\n",
        "matriz_div_2 = np.divide(matriz_aleatoria_2 , maximos)\n",
        "print(matriz_div_2)"
      ],
      "metadata": {
        "colab": {
          "base_uri": "https://localhost:8080/"
        },
        "id": "szqYaGjNWTMa",
        "outputId": "cbc45107-354b-4e4c-9e44-3fbf65f81bbf"
      },
      "execution_count": null,
      "outputs": [
        {
          "output_type": "stream",
          "name": "stdout",
          "text": [
            "[[1.         0.43283582 0.91044776 0.7761194  0.2238806 ]\n",
            " [0.70652174 0.02173913 0.14130435 1.         0.58695652]\n",
            " [0.92207792 0.74025974 1.         0.71428571 0.05194805]\n",
            " [0.83146067 0.05617978 0.08988764 1.         0.14606742]\n",
            " [0.39325843 1.         0.95505618 0.87640449 0.71910112]\n",
            " [0.0326087  0.2826087  0.73913043 0.29347826 1.        ]\n",
            " [0.         0.28888889 0.61111111 0.16666667 1.        ]\n",
            " [1.         0.98850575 0.56321839 0.47126437 0.11494253]\n",
            " [0.87640449 0.70786517 0.96629213 0.70786517 1.        ]\n",
            " [1.         0.70408163 0.51020408 0.46938776 0.05102041]]\n"
          ]
        }
      ]
    },
    {
      "cell_type": "markdown",
      "source": [
        "\n",
        "7. Teste se uma coluna de uma matriz tem todos os valores constantes.\n",
        "\n",
        "---\n"
      ],
      "metadata": {
        "id": "ar_XcXhE-JV9"
      }
    },
    {
      "cell_type": "code",
      "source": [
        "#matriz_div_2[3] = [3,3,3,3,3] ### somete para testes\n",
        "#print(matriz_div_2)"
      ],
      "metadata": {
        "id": "I2IfGgZncRTl"
      },
      "execution_count": null,
      "outputs": []
    },
    {
      "cell_type": "code",
      "source": [
        "sorteio = np.random.choice(len(matriz_div_2))\n",
        "#sorteio = 3 ###somete para testes\n",
        "const = True\n",
        "med_2 = matriz_div_2[sorteio].mean()\n",
        "for l in matriz_div_2[sorteio]:\n",
        "  if l != med_2:\n",
        "    const = False\n",
        "    break\n",
        "print (const)"
      ],
      "metadata": {
        "colab": {
          "base_uri": "https://localhost:8080/"
        },
        "id": "kcTw5_mXaQOP",
        "outputId": "38500f85-7e16-4f78-ec33-392a6eb0664f"
      },
      "execution_count": null,
      "outputs": [
        {
          "output_type": "stream",
          "name": "stdout",
          "text": [
            "False\n"
          ]
        }
      ]
    },
    {
      "cell_type": "markdown",
      "source": [
        "\n",
        "8. Crie uma array com o códico abaixo. Depois escreva um código para selecionar aleatoriamente 20% das linhas e separe em uma outra matriz. Coloque os 80% das linhas restantes em uma segunda matriz.\n",
        "\n",
        "```\n",
        "mean = [0, 0]\n",
        "cov = [[1, 2],\n",
        "       [2, 5]]\n",
        "X = rand.multivariate_normal(mean, cov, 100)\n",
        "X.shape\n",
        "\n",
        "```\n",
        "\n",
        "---"
      ],
      "metadata": {
        "id": "TUD1_yfN-Jqy"
      }
    },
    {
      "cell_type": "code",
      "source": [
        "mean = [0, 0]\n",
        "cov = [[1, 2],\n",
        "       [2, 5]]\n",
        "X = np.random.multivariate_normal(mean, cov, 100)\n",
        "X.shape"
      ],
      "metadata": {
        "id": "YiEOi8j9d4Lb",
        "colab": {
          "base_uri": "https://localhost:8080/"
        },
        "outputId": "8f1f122d-e435-402d-9d51-a1f8e348c425"
      },
      "execution_count": 8,
      "outputs": [
        {
          "output_type": "execute_result",
          "data": {
            "text/plain": [
              "(100, 2)"
            ]
          },
          "metadata": {},
          "execution_count": 8
        }
      ]
    },
    {
      "cell_type": "code",
      "source": [
        " #X=np.random.randint(0,101,(10,2)) # foi usado para testes"
      ],
      "metadata": {
        "id": "6iiiaDG4axEK"
      },
      "execution_count": 9,
      "outputs": []
    },
    {
      "cell_type": "code",
      "source": [
        "np.random.shuffle(X)"
      ],
      "metadata": {
        "id": "wIE4ndDLfn0B"
      },
      "execution_count": 10,
      "outputs": []
    },
    {
      "cell_type": "code",
      "source": [
        "X20, X80 = X[:int(len(X)*0.2)] , X[int(len(X)*0.2):]"
      ],
      "metadata": {
        "id": "8CUeqkTAfxSG"
      },
      "execution_count": 11,
      "outputs": []
    },
    {
      "cell_type": "code",
      "source": [
        "#sorteio20 = np.random.choice(len(X),int(len(X)*0.2), replace=False) # tentando outra solução mas a acima foi melhor. Mantendo função somente p consulta\n",
        "#sorteio20"
      ],
      "metadata": {
        "id": "jPJYraaPd4Gb"
      },
      "execution_count": 12,
      "outputs": []
    },
    {
      "cell_type": "code",
      "source": [
        "#X20 = X[sorteio20]\n",
        "#X20.shape"
      ],
      "metadata": {
        "id": "oDpoJyYEd4Bo"
      },
      "execution_count": 13,
      "outputs": []
    },
    {
      "cell_type": "code",
      "source": [
        "print(\"X shape: \", X.shape, \" / X20 shape: \", X20.shape, \" / X80 shape: \", X80.shape)"
      ],
      "metadata": {
        "colab": {
          "base_uri": "https://localhost:8080/"
        },
        "id": "62nMYEVZbEW2",
        "outputId": "4b292225-74b6-43cf-bf31-0e6feda1d77b"
      },
      "execution_count": 16,
      "outputs": [
        {
          "output_type": "stream",
          "name": "stdout",
          "text": [
            "X shape:  (100, 2)  / X20 shape:  (20, 2)  / X80 shape:  (80, 2)\n"
          ]
        }
      ]
    },
    {
      "cell_type": "markdown",
      "source": [
        "\n",
        "9. Suponha que existam valores faltantes em um array. Como você selecionaria apenas os elementos não faltantes? Como substituir os elementos faltantes pela média dos não faltantes? Considere o array abaixo:\n",
        "```\n",
        "np.array([1,2,3,np.nan,5,6,7,np.nan])\n",
        "```\n",
        "\n",
        "\n",
        "--- \n"
      ],
      "metadata": {
        "id": "6XCj8hgO-J6i"
      }
    },
    {
      "cell_type": "code",
      "source": [
        "corrompido = np.array([1,2,3,np.nan,5,6,7,np.nan])"
      ],
      "metadata": {
        "id": "YvqM4ry9d3gE"
      },
      "execution_count": 46,
      "outputs": []
    },
    {
      "cell_type": "code",
      "source": [
        "media_corrompido = np.nanmean(corrompido)"
      ],
      "metadata": {
        "id": "7Q7Twt1td3Ze"
      },
      "execution_count": 24,
      "outputs": []
    },
    {
      "cell_type": "code",
      "source": [
        "for i in range(len(corrompido)):\n",
        "  if np.isnan(corrompido[i]) == True:\n",
        "    print(i)\n",
        "    corrompido[i] = media_corrompido"
      ],
      "metadata": {
        "id": "5qd-QBO1d3SJ",
        "colab": {
          "base_uri": "https://localhost:8080/"
        },
        "outputId": "c40868fc-1b58-4caf-a1e4-4125a8b9c654"
      },
      "execution_count": 47,
      "outputs": [
        {
          "output_type": "stream",
          "name": "stdout",
          "text": [
            "3\n",
            "7\n"
          ]
        }
      ]
    },
    {
      "cell_type": "markdown",
      "source": [
        "\n",
        "10. Como remover elementos duplicados de um array?\n",
        "```\n",
        "np.random.seed(100)\n",
        "a = np.random.randint(0, 5, 10)\n",
        "```\n",
        "---\n",
        "\n",
        "\n"
      ],
      "metadata": {
        "id": "BxLF7MLO-hJs"
      }
    },
    {
      "cell_type": "code",
      "source": [
        "np.random.seed(100)\n",
        "a = np.random.randint(0, 5, 10)"
      ],
      "metadata": {
        "id": "fGtqrbjqd2Zu"
      },
      "execution_count": 55,
      "outputs": []
    },
    {
      "cell_type": "code",
      "source": [
        "a"
      ],
      "metadata": {
        "id": "9uzKejYPd2TO",
        "colab": {
          "base_uri": "https://localhost:8080/"
        },
        "outputId": "6d11fb50-9b19-4aca-c240-322dee3d188e"
      },
      "execution_count": 56,
      "outputs": [
        {
          "output_type": "execute_result",
          "data": {
            "text/plain": [
              "array([0, 0, 3, 0, 2, 4, 2, 2, 2, 2])"
            ]
          },
          "metadata": {},
          "execution_count": 56
        }
      ]
    },
    {
      "cell_type": "code",
      "source": [
        "np.unique(a)"
      ],
      "metadata": {
        "id": "eQngGfySd2Mn",
        "colab": {
          "base_uri": "https://localhost:8080/"
        },
        "outputId": "5f13730a-8729-4d7c-b475-95e66e74a639"
      },
      "execution_count": 59,
      "outputs": [
        {
          "output_type": "execute_result",
          "data": {
            "text/plain": [
              "array([0, 2, 3, 4])"
            ]
          },
          "metadata": {},
          "execution_count": 59
        }
      ]
    },
    {
      "cell_type": "markdown",
      "source": [
        "11. Substitua todos os valores acima de 30 por 30 e os abaixo de 30 por 10.\n",
        "```\n",
        "np.random.seed(100)\n",
        "a = np.random.uniform(1,50, 20)\n",
        "```\n",
        "\n",
        "---\n",
        "\n"
      ],
      "metadata": {
        "id": "c25lhiAs-g8i"
      }
    },
    {
      "cell_type": "code",
      "source": [
        "np.random.seed(100)\n",
        "b = np.random.uniform(1,50, 20)"
      ],
      "metadata": {
        "id": "-6Z-cHhed12t"
      },
      "execution_count": 60,
      "outputs": []
    },
    {
      "cell_type": "code",
      "source": [
        "b"
      ],
      "metadata": {
        "id": "5yIy66oQd1vm",
        "colab": {
          "base_uri": "https://localhost:8080/"
        },
        "outputId": "b3dbe504-5b05-4d73-d987-5cc0dca6956e"
      },
      "execution_count": 61,
      "outputs": [
        {
          "output_type": "execute_result",
          "data": {
            "text/plain": [
              "array([27.62684215, 14.64009987, 21.80136195, 42.39403048,  1.23122395,\n",
              "        6.95688692, 33.86670515, 41.466785  ,  7.69862289, 29.17957314,\n",
              "       44.67477576, 11.25090398, 10.08108276,  6.31046763, 11.76517714,\n",
              "       48.95256545, 40.77247431,  9.42510962, 40.99501269, 14.42961361])"
            ]
          },
          "metadata": {},
          "execution_count": 61
        }
      ]
    },
    {
      "cell_type": "code",
      "source": [
        "b[b > 30] = 30\n",
        "b[b < 30] = 10"
      ],
      "metadata": {
        "id": "C2gYgXY1d1of"
      },
      "execution_count": 62,
      "outputs": []
    },
    {
      "cell_type": "code",
      "source": [
        "print(b)"
      ],
      "metadata": {
        "colab": {
          "base_uri": "https://localhost:8080/"
        },
        "id": "jbNXOert2qhW",
        "outputId": "4f63deee-461b-4c95-95af-34d07f7699ec"
      },
      "execution_count": 63,
      "outputs": [
        {
          "output_type": "stream",
          "name": "stdout",
          "text": [
            "[10. 10. 10. 30. 10. 10. 30. 30. 10. 10. 30. 10. 10. 10. 10. 30. 30. 10.\n",
            " 30. 10.]\n"
          ]
        }
      ]
    },
    {
      "cell_type": "markdown",
      "source": [
        "12. Como contar o a quantidade de vezes que cada valor aparece em cada coluna de uma matriz de números inteiros.\n",
        "\n",
        "--- \n"
      ],
      "metadata": {
        "id": "_gLtcY32-guT"
      }
    },
    {
      "cell_type": "code",
      "source": [
        "matriz_12 = np.random.randint(0,101,(5,10))\n",
        "matriz_12"
      ],
      "metadata": {
        "id": "T2KPusxAd0mm",
        "colab": {
          "base_uri": "https://localhost:8080/"
        },
        "outputId": "271f1364-2a0f-4144-a928-4f9a8bbd11fb"
      },
      "execution_count": 65,
      "outputs": [
        {
          "output_type": "execute_result",
          "data": {
            "text/plain": [
              "array([[70,  3, 84, 79, 10, 87, 60,  3, 48, 52],\n",
              "       [43, 36,  5, 71, 38, 86, 94, 98, 42, 84],\n",
              "       [95, 76, 33, 58, 42, 22,  0, 55, 98, 19],\n",
              "       [53, 68, 62, 50, 68, 35, 23,  9, 48, 21],\n",
              "       [25, 54,  6, 37, 58, 39, 94, 51, 30, 66]])"
            ]
          },
          "metadata": {},
          "execution_count": 65
        }
      ]
    },
    {
      "cell_type": "code",
      "source": [
        "matriz_12_valores, matriz_12_num_rep = np.unique(matriz_12, return_counts=True)[0] , np.unique(matriz_12, return_counts=True)[1]"
      ],
      "metadata": {
        "id": "yPCMGW10d0bZ"
      },
      "execution_count": 69,
      "outputs": []
    },
    {
      "cell_type": "code",
      "source": [
        "for n in range(len(matriz_12_valores)):\n",
        "  print(\"o valor \", matriz_12_valores[n], \" se repete \", matriz_12_num_rep[n], [\" vez\", \" vezes\"][matriz_12_num_rep[n]>1])"
      ],
      "metadata": {
        "id": "13fZ3_0Bd0Mb",
        "colab": {
          "base_uri": "https://localhost:8080/"
        },
        "outputId": "cf7e7323-b632-4f8e-a713-5851d15c8138"
      },
      "execution_count": 76,
      "outputs": [
        {
          "output_type": "stream",
          "name": "stdout",
          "text": [
            "o valor  0  se repete  1  vez\n",
            "o valor  3  se repete  2  vezes\n",
            "o valor  5  se repete  1  vez\n",
            "o valor  6  se repete  1  vez\n",
            "o valor  9  se repete  1  vez\n",
            "o valor  10  se repete  1  vez\n",
            "o valor  19  se repete  1  vez\n",
            "o valor  21  se repete  1  vez\n",
            "o valor  22  se repete  1  vez\n",
            "o valor  23  se repete  1  vez\n",
            "o valor  25  se repete  1  vez\n",
            "o valor  30  se repete  1  vez\n",
            "o valor  33  se repete  1  vez\n",
            "o valor  35  se repete  1  vez\n",
            "o valor  36  se repete  1  vez\n",
            "o valor  37  se repete  1  vez\n",
            "o valor  38  se repete  1  vez\n",
            "o valor  39  se repete  1  vez\n",
            "o valor  42  se repete  2  vezes\n",
            "o valor  43  se repete  1  vez\n",
            "o valor  48  se repete  2  vezes\n",
            "o valor  50  se repete  1  vez\n",
            "o valor  51  se repete  1  vez\n",
            "o valor  52  se repete  1  vez\n",
            "o valor  53  se repete  1  vez\n",
            "o valor  54  se repete  1  vez\n",
            "o valor  55  se repete  1  vez\n",
            "o valor  58  se repete  2  vezes\n",
            "o valor  60  se repete  1  vez\n",
            "o valor  62  se repete  1  vez\n",
            "o valor  66  se repete  1  vez\n",
            "o valor  68  se repete  2  vezes\n",
            "o valor  70  se repete  1  vez\n",
            "o valor  71  se repete  1  vez\n",
            "o valor  76  se repete  1  vez\n",
            "o valor  79  se repete  1  vez\n",
            "o valor  84  se repete  2  vezes\n",
            "o valor  86  se repete  1  vez\n",
            "o valor  87  se repete  1  vez\n",
            "o valor  94  se repete  2  vezes\n",
            "o valor  95  se repete  1  vez\n",
            "o valor  98  se repete  2  vezes\n"
          ]
        },
        {
          "output_type": "stream",
          "name": "stderr",
          "text": [
            "/usr/local/lib/python3.7/dist-packages/ipykernel_launcher.py:2: DeprecationWarning: In future, it will be an error for 'np.bool_' scalars to be interpreted as an index\n",
            "  \n"
          ]
        }
      ]
    },
    {
      "cell_type": "markdown",
      "source": [
        "---\n",
        "---\n",
        "# FIM\n",
        "---\n",
        "---"
      ],
      "metadata": {
        "id": "QpBYJ9V_-gVp"
      }
    }
  ]
}