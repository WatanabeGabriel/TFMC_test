{
  "nbformat": 4,
  "nbformat_minor": 0,
  "metadata": {
    "colab": {
      "name": "Exercicios_Numpy_II.ipynb",
      "provenance": [],
      "collapsed_sections": [],
      "include_colab_link": true
    },
    "kernelspec": {
      "display_name": "Python 3",
      "language": "python",
      "name": "python3"
    },
    "language_info": {
      "codemirror_mode": {
        "name": "ipython",
        "version": 3
      },
      "file_extension": ".py",
      "mimetype": "text/x-python",
      "name": "python",
      "nbconvert_exporter": "python",
      "pygments_lexer": "ipython3",
      "version": "3.8.3"
    },
    "toc": {
      "base_numbering": 1,
      "nav_menu": {},
      "number_sections": true,
      "sideBar": true,
      "skip_h1_title": false,
      "title_cell": "Table of Contents",
      "title_sidebar": "Contents",
      "toc_cell": false,
      "toc_position": {
        "height": "calc(100% - 180px)",
        "left": "10px",
        "top": "150px",
        "width": "252px"
      },
      "toc_section_display": true,
      "toc_window_display": true
    }
  },
  "cells": [
    {
      "cell_type": "markdown",
      "metadata": {
        "id": "view-in-github",
        "colab_type": "text"
      },
      "source": [
        "<a href=\"https://colab.research.google.com/github/WatanabeGabriel/TFMC_test/blob/main/Exercicios_Numpy_II.ipynb\" target=\"_parent\"><img src=\"https://colab.research.google.com/assets/colab-badge.svg\" alt=\"Open In Colab\"/></a>"
      ]
    },
    {
      "cell_type": "code",
      "source": [
        "import numpy as np"
      ],
      "metadata": {
        "id": "FGXf7SwJEjBN"
      },
      "execution_count": 136,
      "outputs": []
    },
    {
      "cell_type": "markdown",
      "metadata": {
        "id": "FGepcSjhciDI"
      },
      "source": [
        "# Exercícios\n",
        "\n",
        "1. Uma maneira de calcular o erro de um modelo preditivo é através do erro médio quadrático, que consiste em elevar ao quadrado a diferença de cada valor predito pelo valor real e depois tirar a média. Supondo que seu modelo fez 5 previsões y_pred = [1, 1, 1.1, 3.2, -0.5] e que os valores reais seriam: y_real = [0.3, 0.4, 1.1, 2.1, -0.9]. Calcule o erro médio quadrático.\n",
        "\n",
        "$\n",
        "e = \\frac{1}{N}\\sum(y_{real_i} - y_{pred_i} )^2\n",
        "$\n",
        "\n",
        "\n",
        "---\n",
        "\n",
        "\n"
      ]
    },
    {
      "cell_type": "code",
      "source": [
        "y_real = np.array([0.3, 0.4, 1.1, 2.1, -0.9])\n",
        "y_pred = np.array([1, 1, 1.1, 3.2, -0.5])"
      ],
      "metadata": {
        "id": "_hdvx1veEecB"
      },
      "execution_count": 137,
      "outputs": []
    },
    {
      "cell_type": "code",
      "source": [
        "e = 0\n",
        "for i in (y_real - y_pred)**2:\n",
        "  e += i\n",
        "e = e / len(y_real)\n",
        "print (e)"
      ],
      "metadata": {
        "colab": {
          "base_uri": "https://localhost:8080/"
        },
        "id": "FOOD7sjvFARg",
        "outputId": "3eddba63-851b-4a2f-a7b8-9cbc3305b3db"
      },
      "execution_count": 138,
      "outputs": [
        {
          "output_type": "stream",
          "name": "stdout",
          "text": [
            "0.44400000000000006\n"
          ]
        }
      ]
    },
    {
      "cell_type": "code",
      "source": [
        "print(((y_real - y_pred)**2).mean())"
      ],
      "metadata": {
        "colab": {
          "base_uri": "https://localhost:8080/"
        },
        "id": "PnPmc9hMFWZ6",
        "outputId": "4c215af5-65fd-4293-f707-4685d236789e"
      },
      "execution_count": 139,
      "outputs": [
        {
          "output_type": "stream",
          "name": "stdout",
          "text": [
            "0.44400000000000006\n"
          ]
        }
      ]
    },
    {
      "cell_type": "markdown",
      "source": [
        "\n",
        "2. Um modelo calcula as probabilidades de três eventos acontecerem para uma determinada entrada. Suponha que esse modelo calculou as probabilidades abaixo para 5 entrada. Como você selecionaria qual a coluna que teve maior probabilidade em cada linha ?\n",
        "\n",
        "```\n",
        "[[0.2, 0.1, 0.7],\n",
        "[0.3, 0.1, 0.6],\n",
        "[0.5, 0.4, 0.1],\n",
        "[0.3, 0.5, 0.2],\n",
        "[0.1, 0.9, 0.0]]\n",
        "```\n",
        "\n",
        "---"
      ],
      "metadata": {
        "id": "mZTPiiLNEXRU"
      }
    },
    {
      "cell_type": "code",
      "source": [
        "modelo = np.array([[0.2, 0.1, 0.7],[0.3, 0.1, 0.6],[0.5, 0.4, 0.1],[0.3, 0.5, 0.2],[0.1, 0.9, 0.0]])"
      ],
      "metadata": {
        "id": "-Jq739NfGwXY"
      },
      "execution_count": 140,
      "outputs": []
    },
    {
      "cell_type": "code",
      "source": [
        "print(np.argmax(modelo, 1))"
      ],
      "metadata": {
        "colab": {
          "base_uri": "https://localhost:8080/"
        },
        "id": "LtzaRt-TGwPI",
        "outputId": "3325d6d1-9900-41a4-8d80-5a2fca2092ae"
      },
      "execution_count": 141,
      "outputs": [
        {
          "output_type": "stream",
          "name": "stdout",
          "text": [
            "[2 2 0 1 1]\n"
          ]
        }
      ]
    },
    {
      "cell_type": "markdown",
      "source": [
        "3. Crie uma matriz 5, 100 com números inteiros aleatórios entre 0 e 100. Subtraia a média de cada linha da matriz.\n",
        "\n",
        "---\n",
        "\n"
      ],
      "metadata": {
        "id": "7Yp7q96d-ANh"
      }
    },
    {
      "cell_type": "code",
      "source": [
        "matriz_aleatoria = np.random.randint(0,101,(5,10)) #### trocar de 10 p 100 ###\n",
        "#print (matriz_aleatoria)\n",
        "#len(matriz_aleatoria)"
      ],
      "metadata": {
        "id": "zK-dG8gxIzN3"
      },
      "execution_count": 142,
      "outputs": []
    },
    {
      "cell_type": "code",
      "source": [
        "matriz_aleatoria.shape"
      ],
      "metadata": {
        "colab": {
          "base_uri": "https://localhost:8080/"
        },
        "id": "2XcMi6uWYzz6",
        "outputId": "6c1be1fa-62b5-47ab-b9a8-41f97f643c20"
      },
      "execution_count": 143,
      "outputs": [
        {
          "output_type": "execute_result",
          "data": {
            "text/plain": [
              "(5, 10)"
            ]
          },
          "metadata": {},
          "execution_count": 143
        }
      ]
    },
    {
      "cell_type": "code",
      "source": [
        "media = np.array(matriz_aleatoria.mean(1).reshape(len(matriz_aleatoria),1))\n",
        "#print(media)"
      ],
      "metadata": {
        "id": "hlM0hIuNIzGO"
      },
      "execution_count": 144,
      "outputs": []
    },
    {
      "cell_type": "code",
      "source": [
        "matriz_2 = np.subtract(matriz_aleatoria, media)\n",
        "print(matriz_2)"
      ],
      "metadata": {
        "colab": {
          "base_uri": "https://localhost:8080/"
        },
        "id": "Oq8W2vt4Iy-G",
        "outputId": "7026abee-29a3-42c8-b2b2-77bd856136ed"
      },
      "execution_count": 145,
      "outputs": [
        {
          "output_type": "stream",
          "name": "stdout",
          "text": [
            "[[-35.6   1.4  28.4  11.4  40.4  32.4 -37.6  24.4 -27.6 -37.6]\n",
            " [-24.3 -23.3   5.7   7.7   4.7  43.7  48.7 -21.3 -46.3   4.7]\n",
            " [  5.6 -15.4  37.6  12.6 -21.4 -39.4 -10.4 -23.4  39.6  14.6]\n",
            " [-38.1  37.9  39.9 -21.1 -56.1 -42.1  -7.1  32.9  21.9  31.9]\n",
            " [ 56.8 -29.2  -0.2   6.8   3.8   5.8  -4.2 -27.2 -36.2  23.8]]\n"
          ]
        }
      ]
    },
    {
      "cell_type": "markdown",
      "source": [
        "4. Usando a matriz do exercício anterior, divida cada linha de uma  pelo desvio padrão daquela linha.\n",
        "\n",
        "---\n"
      ],
      "metadata": {
        "id": "Y3_ges2t-Ea7"
      }
    },
    {
      "cell_type": "code",
      "source": [
        "dp_matriz_2 = np.reshape(np.std(matriz_2,1),(len(matriz_2),1))\n",
        "#print(dp_matriz_2)"
      ],
      "metadata": {
        "id": "lb_BEfVcQEYf"
      },
      "execution_count": 146,
      "outputs": []
    },
    {
      "cell_type": "code",
      "source": [
        "matriz_div = np.divide(matriz_2, dp_matriz_2)\n",
        "print(matriz_div)"
      ],
      "metadata": {
        "colab": {
          "base_uri": "https://localhost:8080/"
        },
        "id": "KbFpYULmQELO",
        "outputId": "72aeaaa1-c104-4d9b-b07d-80d68cc0030a"
      },
      "execution_count": 147,
      "outputs": [
        {
          "output_type": "stream",
          "name": "stdout",
          "text": [
            "[[-1.18192224  0.04648009  0.94288178  0.37848072  1.34128254  1.07568203\n",
            "  -1.24832236  0.81008153 -0.91632173 -1.24832236]\n",
            " [-0.85129111 -0.81625855  0.19968557  0.26975068  0.16465301  1.5309227\n",
            "   1.70608548 -0.74619344 -1.62200734  0.16465301]\n",
            " [ 0.22331503 -0.61411632  1.49940089  0.50245881 -0.85338242 -1.57118072\n",
            "  -0.41472791 -0.93313779  1.57915626  0.58221418]\n",
            " [-1.07871431  1.07305177  1.12967719 -0.59739821 -1.58834311 -1.19196515\n",
            "  -0.20102025  0.93148821  0.62004838  0.9031755 ]\n",
            " [ 2.17696437 -1.11914365 -0.00766537  0.26062249  0.14564198  0.22229566\n",
            "  -0.16097272 -1.04248998 -1.38743152  0.91217873]]\n"
          ]
        }
      ]
    },
    {
      "cell_type": "markdown",
      "source": [
        "\n",
        "5. Compare dois vetores para saber se todos elementos são iguais.\n",
        "\n",
        "---\n",
        "\n"
      ],
      "metadata": {
        "id": "OGttDxeo-IsS"
      }
    },
    {
      "cell_type": "code",
      "source": [
        "sorteio = np.random.choice(len(matriz_div),2, replace=False)\n",
        "#print(sorteio)\n",
        "#print(matriz_div[sorteio[0]])\n",
        "#print(matriz_div[sorteio[1]])\n",
        "igualdade = np.equal(matriz_div[sorteio[0]], matriz_div[sorteio[1]])\n",
        "print (igualdade)"
      ],
      "metadata": {
        "colab": {
          "base_uri": "https://localhost:8080/"
        },
        "id": "Vy0q3qX_Sb_3",
        "outputId": "ad299a03-aed1-41fa-da84-ec4736aa55a8"
      },
      "execution_count": 148,
      "outputs": [
        {
          "output_type": "stream",
          "name": "stdout",
          "text": [
            "[False False False False False False False False False False]\n"
          ]
        }
      ]
    },
    {
      "cell_type": "markdown",
      "source": [
        "6. Crie uma matriz aleatória de tamanho 100x5. Divida cada coluna pelo maior valor daquela coluna\n",
        "\n",
        "--- \n"
      ],
      "metadata": {
        "id": "HfO75X1l-I9y"
      }
    },
    {
      "cell_type": "code",
      "source": [
        "matriz_aleatoria_2 = np.random.randint(100,size=(10,5)) #### trocar de 10 p 100 ###\n",
        "#print (matriz_aleatoria_2.shape)"
      ],
      "metadata": {
        "id": "Q4vNArFkWTVH"
      },
      "execution_count": 149,
      "outputs": []
    },
    {
      "cell_type": "code",
      "source": [
        "maximos = np.array(matriz_aleatoria_2.max(1).reshape(len(matriz_aleatoria_2),1))\n",
        "matriz_div_2 = np.divide(matriz_aleatoria_2 , maximos)\n",
        "print(matriz_div_2)"
      ],
      "metadata": {
        "colab": {
          "base_uri": "https://localhost:8080/"
        },
        "id": "szqYaGjNWTMa",
        "outputId": "cbc45107-354b-4e4c-9e44-3fbf65f81bbf"
      },
      "execution_count": 150,
      "outputs": [
        {
          "output_type": "stream",
          "name": "stdout",
          "text": [
            "[[1.         0.43283582 0.91044776 0.7761194  0.2238806 ]\n",
            " [0.70652174 0.02173913 0.14130435 1.         0.58695652]\n",
            " [0.92207792 0.74025974 1.         0.71428571 0.05194805]\n",
            " [0.83146067 0.05617978 0.08988764 1.         0.14606742]\n",
            " [0.39325843 1.         0.95505618 0.87640449 0.71910112]\n",
            " [0.0326087  0.2826087  0.73913043 0.29347826 1.        ]\n",
            " [0.         0.28888889 0.61111111 0.16666667 1.        ]\n",
            " [1.         0.98850575 0.56321839 0.47126437 0.11494253]\n",
            " [0.87640449 0.70786517 0.96629213 0.70786517 1.        ]\n",
            " [1.         0.70408163 0.51020408 0.46938776 0.05102041]]\n"
          ]
        }
      ]
    },
    {
      "cell_type": "markdown",
      "source": [
        "\n",
        "7. Teste se uma coluna de uma matriz tem todos os valores constantes.\n",
        "\n",
        "---\n"
      ],
      "metadata": {
        "id": "ar_XcXhE-JV9"
      }
    },
    {
      "cell_type": "code",
      "source": [
        "#matriz_div_2[3] = [3,3,3,3,3] ### somete para testes\n",
        "#print(matriz_div_2)"
      ],
      "metadata": {
        "id": "I2IfGgZncRTl"
      },
      "execution_count": 151,
      "outputs": []
    },
    {
      "cell_type": "code",
      "source": [
        "sorteio = np.random.choice(len(matriz_div_2))\n",
        "#sorteio = 3 ###somete para testes\n",
        "const = True\n",
        "med_2 = matriz_div_2[sorteio].mean()\n",
        "for l in matriz_div_2[sorteio]:\n",
        "  if l != med_2:\n",
        "    const = False\n",
        "    break\n",
        "print (const)"
      ],
      "metadata": {
        "colab": {
          "base_uri": "https://localhost:8080/"
        },
        "id": "kcTw5_mXaQOP",
        "outputId": "38500f85-7e16-4f78-ec33-392a6eb0664f"
      },
      "execution_count": 152,
      "outputs": [
        {
          "output_type": "stream",
          "name": "stdout",
          "text": [
            "False\n"
          ]
        }
      ]
    },
    {
      "cell_type": "markdown",
      "source": [
        "\n",
        "8. Crie uma array com o códico abaixo. Depois escreva um código para selecionar aleatoriamente 20% das linhas e separe em uma outra matriz. Coloque os 80% das linhas restantes em uma segunda matriz.\n",
        "\n",
        "```\n",
        "mean = [0, 0]\n",
        "cov = [[1, 2],\n",
        "       [2, 5]]\n",
        "X = rand.multivariate_normal(mean, cov, 100)\n",
        "X.shape\n",
        "\n",
        "```\n",
        "\n",
        "---"
      ],
      "metadata": {
        "id": "TUD1_yfN-Jqy"
      }
    },
    {
      "cell_type": "code",
      "source": [],
      "metadata": {
        "id": "YiEOi8j9d4Lb"
      },
      "execution_count": null,
      "outputs": []
    },
    {
      "cell_type": "code",
      "source": [],
      "metadata": {
        "id": "jPJYraaPd4Gb"
      },
      "execution_count": null,
      "outputs": []
    },
    {
      "cell_type": "code",
      "source": [],
      "metadata": {
        "id": "oDpoJyYEd4Bo"
      },
      "execution_count": null,
      "outputs": []
    },
    {
      "cell_type": "markdown",
      "source": [
        "\n",
        "9. Suponha que existam valores faltantes em um array. Como você selecionaria apenas os elementos não faltantes? Como substituir os elementos faltantes pela média dos não faltantes? Considere o array abaixo:\n",
        "```\n",
        "np.array([1,2,3,np.nan,5,6,7,np.nan])\n",
        "```\n",
        "\n",
        "\n",
        "--- \n"
      ],
      "metadata": {
        "id": "6XCj8hgO-J6i"
      }
    },
    {
      "cell_type": "code",
      "source": [],
      "metadata": {
        "id": "YvqM4ry9d3gE"
      },
      "execution_count": null,
      "outputs": []
    },
    {
      "cell_type": "code",
      "source": [],
      "metadata": {
        "id": "7Q7Twt1td3Ze"
      },
      "execution_count": null,
      "outputs": []
    },
    {
      "cell_type": "code",
      "source": [],
      "metadata": {
        "id": "5qd-QBO1d3SJ"
      },
      "execution_count": null,
      "outputs": []
    },
    {
      "cell_type": "markdown",
      "source": [
        "Uma maneira de calcular o erro de um modelo preditivo é através do erro médio quadrático, que consiste em elevar ao quadrado a diferença de cada valor predito pelo valor real e depois tirar a média. Supondo que seu modelo fez 5 previsões y_pred = [1, 1, 1.1, 3.2, -0.5] e que os valores reais seriam: y_real = [0.3, 0.4, 1.1, 2.1, -0.9]. Calcule o erro médio quadrático.\n",
        "e=1N∑(yreali−ypredi)2"
      ],
      "metadata": {
        "id": "7dvZ_8DoEOX2"
      }
    },
    {
      "cell_type": "markdown",
      "source": [
        "\n",
        "10. Como remover elementos duplicados de um array?\n",
        "```\n",
        "np.random.seed(100)\n",
        "a = np.random.randint(0, 5, 10)\n",
        "```\n",
        "---\n",
        "\n",
        "\n"
      ],
      "metadata": {
        "id": "BxLF7MLO-hJs"
      }
    },
    {
      "cell_type": "code",
      "source": [],
      "metadata": {
        "id": "fGtqrbjqd2Zu"
      },
      "execution_count": null,
      "outputs": []
    },
    {
      "cell_type": "code",
      "source": [],
      "metadata": {
        "id": "9uzKejYPd2TO"
      },
      "execution_count": null,
      "outputs": []
    },
    {
      "cell_type": "code",
      "source": [],
      "metadata": {
        "id": "eQngGfySd2Mn"
      },
      "execution_count": null,
      "outputs": []
    },
    {
      "cell_type": "markdown",
      "source": [
        "11. Substitua todos os valores acima de 30 por 30 e os abaixo de 30 por 10.\n",
        "```\n",
        "np.random.seed(100)\n",
        "a = np.random.uniform(1,50, 20)\n",
        "```\n",
        "\n",
        "---\n",
        "\n"
      ],
      "metadata": {
        "id": "c25lhiAs-g8i"
      }
    },
    {
      "cell_type": "code",
      "source": [],
      "metadata": {
        "id": "-6Z-cHhed12t"
      },
      "execution_count": null,
      "outputs": []
    },
    {
      "cell_type": "code",
      "source": [],
      "metadata": {
        "id": "5yIy66oQd1vm"
      },
      "execution_count": null,
      "outputs": []
    },
    {
      "cell_type": "code",
      "source": [],
      "metadata": {
        "id": "C2gYgXY1d1of"
      },
      "execution_count": null,
      "outputs": []
    },
    {
      "cell_type": "markdown",
      "source": [
        "12. Como contar o a quantidade de vezes que cada valor aparece em cada coluna de uma matriz de números inteiros.\n",
        "\n",
        "--- \n"
      ],
      "metadata": {
        "id": "_gLtcY32-guT"
      }
    },
    {
      "cell_type": "code",
      "source": [],
      "metadata": {
        "id": "T2KPusxAd0mm"
      },
      "execution_count": null,
      "outputs": []
    },
    {
      "cell_type": "code",
      "source": [],
      "metadata": {
        "id": "yPCMGW10d0bZ"
      },
      "execution_count": null,
      "outputs": []
    },
    {
      "cell_type": "code",
      "source": [],
      "metadata": {
        "id": "13fZ3_0Bd0Mb"
      },
      "execution_count": null,
      "outputs": []
    },
    {
      "cell_type": "markdown",
      "source": [
        "---\n",
        "---\n",
        "# FIM\n",
        "---\n",
        "---"
      ],
      "metadata": {
        "id": "QpBYJ9V_-gVp"
      }
    }
  ]
}